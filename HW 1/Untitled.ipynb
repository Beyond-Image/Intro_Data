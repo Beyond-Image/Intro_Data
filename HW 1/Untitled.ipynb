{
 "cells": [
  {
   "cell_type": "code",
   "execution_count": 73,
   "id": "c561db76",
   "metadata": {},
   "outputs": [
    {
     "data": {
      "text/html": [
       "<div>\n",
       "<style scoped>\n",
       "    .dataframe tbody tr th:only-of-type {\n",
       "        vertical-align: middle;\n",
       "    }\n",
       "\n",
       "    .dataframe tbody tr th {\n",
       "        vertical-align: top;\n",
       "    }\n",
       "\n",
       "    .dataframe thead th {\n",
       "        text-align: right;\n",
       "    }\n",
       "</style>\n",
       "<table border=\"1\" class=\"dataframe\">\n",
       "  <thead>\n",
       "    <tr style=\"text-align: right;\">\n",
       "      <th></th>\n",
       "      <th>Order ID</th>\n",
       "      <th>first_name</th>\n",
       "      <th>last_name</th>\n",
       "      <th>email</th>\n",
       "      <th>gender</th>\n",
       "      <th>Product</th>\n",
       "      <th>Product Category</th>\n",
       "      <th>Amount</th>\n",
       "    </tr>\n",
       "  </thead>\n",
       "  <tbody>\n",
       "    <tr>\n",
       "      <th>0</th>\n",
       "      <td>1.0</td>\n",
       "      <td>Morganne</td>\n",
       "      <td>Gerler</td>\n",
       "      <td>mgerler0@wufoo.com</td>\n",
       "      <td>Female</td>\n",
       "      <td>Nike Air Max</td>\n",
       "      <td>Mobiles</td>\n",
       "      <td>$1,414.86</td>\n",
       "    </tr>\n",
       "    <tr>\n",
       "      <th>1</th>\n",
       "      <td>2.0</td>\n",
       "      <td>Nollie</td>\n",
       "      <td>Jakab</td>\n",
       "      <td>njakab2@diigo.com</td>\n",
       "      <td>Male</td>\n",
       "      <td>Nike Air Max</td>\n",
       "      <td>Laptop</td>\n",
       "      <td>$277.91</td>\n",
       "    </tr>\n",
       "    <tr>\n",
       "      <th>2</th>\n",
       "      <td>3.0</td>\n",
       "      <td>Austin</td>\n",
       "      <td>Relph</td>\n",
       "      <td>arelph3@etsy.com</td>\n",
       "      <td>Female</td>\n",
       "      <td>Amazon Echo</td>\n",
       "      <td>mobile accesories</td>\n",
       "      <td>$1,155.54</td>\n",
       "    </tr>\n",
       "    <tr>\n",
       "      <th>3</th>\n",
       "      <td>4.0</td>\n",
       "      <td>Kessia</td>\n",
       "      <td>Carrett</td>\n",
       "      <td>kcarrett4@uol.com.br</td>\n",
       "      <td>Female</td>\n",
       "      <td>Nike Air Max</td>\n",
       "      <td>mobile accesories</td>\n",
       "      <td>$32.36</td>\n",
       "    </tr>\n",
       "    <tr>\n",
       "      <th>4</th>\n",
       "      <td>5.0</td>\n",
       "      <td>Brod</td>\n",
       "      <td>Fallen</td>\n",
       "      <td>bfallen5@yahoo.co.jp</td>\n",
       "      <td>Male</td>\n",
       "      <td>Sony PlayStation</td>\n",
       "      <td>Fashion</td>\n",
       "      <td>$888.05</td>\n",
       "    </tr>\n",
       "    <tr>\n",
       "      <th>...</th>\n",
       "      <td>...</td>\n",
       "      <td>...</td>\n",
       "      <td>...</td>\n",
       "      <td>...</td>\n",
       "      <td>...</td>\n",
       "      <td>...</td>\n",
       "      <td>...</td>\n",
       "      <td>...</td>\n",
       "    </tr>\n",
       "    <tr>\n",
       "      <th>454</th>\n",
       "      <td>455.0</td>\n",
       "      <td>Isidore</td>\n",
       "      <td>Dorrins</td>\n",
       "      <td>idorrinsdr@census.gov</td>\n",
       "      <td>Male</td>\n",
       "      <td>Amazon Echo</td>\n",
       "      <td>Mobiles</td>\n",
       "      <td>$917.67</td>\n",
       "    </tr>\n",
       "    <tr>\n",
       "      <th>455</th>\n",
       "      <td>456.0</td>\n",
       "      <td>Mirilla</td>\n",
       "      <td>Fry</td>\n",
       "      <td>mfryds@sciencedaily.com</td>\n",
       "      <td>Female</td>\n",
       "      <td>MacBook Pro</td>\n",
       "      <td>mobile accesories</td>\n",
       "      <td>$293.32</td>\n",
       "    </tr>\n",
       "    <tr>\n",
       "      <th>456</th>\n",
       "      <td>457.0</td>\n",
       "      <td>Addy</td>\n",
       "      <td>Uff</td>\n",
       "      <td>auffdt@constantcontact.com</td>\n",
       "      <td>Female</td>\n",
       "      <td>Amazon Echo</td>\n",
       "      <td>mobile accesories</td>\n",
       "      <td>$983.96</td>\n",
       "    </tr>\n",
       "    <tr>\n",
       "      <th>457</th>\n",
       "      <td>458.0</td>\n",
       "      <td>Lona</td>\n",
       "      <td>Zorzutti</td>\n",
       "      <td>lzorzuttidu@reference.com</td>\n",
       "      <td>Agender</td>\n",
       "      <td>Sony PlayStation</td>\n",
       "      <td>mobile accesories</td>\n",
       "      <td>$901.79</td>\n",
       "    </tr>\n",
       "    <tr>\n",
       "      <th>458</th>\n",
       "      <td>459.0</td>\n",
       "      <td>Charlton</td>\n",
       "      <td>Ditzel</td>\n",
       "      <td>cditzeldv@ocn.ne.jp</td>\n",
       "      <td>Genderqueer</td>\n",
       "      <td>Amazon Echo</td>\n",
       "      <td>Health</td>\n",
       "      <td>$1,439.57</td>\n",
       "    </tr>\n",
       "  </tbody>\n",
       "</table>\n",
       "<p>459 rows × 8 columns</p>\n",
       "</div>"
      ],
      "text/plain": [
       "     Order ID first_name last_name                       email       gender  \\\n",
       "0         1.0   Morganne    Gerler          mgerler0@wufoo.com       Female   \n",
       "1         2.0     Nollie     Jakab           njakab2@diigo.com         Male   \n",
       "2         3.0     Austin     Relph            arelph3@etsy.com       Female   \n",
       "3         4.0     Kessia   Carrett        kcarrett4@uol.com.br       Female   \n",
       "4         5.0       Brod    Fallen        bfallen5@yahoo.co.jp         Male   \n",
       "..        ...        ...       ...                         ...          ...   \n",
       "454     455.0    Isidore   Dorrins       idorrinsdr@census.gov         Male   \n",
       "455     456.0    Mirilla       Fry     mfryds@sciencedaily.com       Female   \n",
       "456     457.0       Addy       Uff  auffdt@constantcontact.com       Female   \n",
       "457     458.0       Lona  Zorzutti   lzorzuttidu@reference.com      Agender   \n",
       "458     459.0   Charlton    Ditzel         cditzeldv@ocn.ne.jp  Genderqueer   \n",
       "\n",
       "              Product   Product Category      Amount  \n",
       "0        Nike Air Max            Mobiles  $1,414.86   \n",
       "1        Nike Air Max             Laptop    $277.91   \n",
       "2         Amazon Echo  mobile accesories  $1,155.54   \n",
       "3        Nike Air Max  mobile accesories     $32.36   \n",
       "4    Sony PlayStation            Fashion    $888.05   \n",
       "..                ...                ...         ...  \n",
       "454       Amazon Echo            Mobiles    $917.67   \n",
       "455       MacBook Pro  mobile accesories    $293.32   \n",
       "456       Amazon Echo  mobile accesories    $983.96   \n",
       "457  Sony PlayStation  mobile accesories    $901.79   \n",
       "458       Amazon Echo             Health  $1,439.57   \n",
       "\n",
       "[459 rows x 8 columns]"
      ]
     },
     "execution_count": 73,
     "metadata": {},
     "output_type": "execute_result"
    }
   ],
   "source": [
    "import pandas as pd\n",
    "import numpy as np\n",
    "import matplotlib.pyplot as plt\n",
    "\n",
    "df = pd.read_csv('assignment_data_cleaned.csv')\n",
    "num_rows = df.shape[0]\n",
    "num_col= df.shape[1]\n",
    "\n",
    "#more cleaning\n",
    "df =df.drop(df.columns[8], axis = 1)\n",
    "df = df.iloc[0:459]\n",
    "\n",
    "\n",
    "df"
   ]
  },
  {
   "cell_type": "code",
   "execution_count": 74,
   "id": "66667be3",
   "metadata": {},
   "outputs": [
    {
     "name": "stdout",
     "output_type": "stream",
     "text": [
      "1157\n",
      "1157.1\n"
     ]
    }
   ],
   "source": [
    "df['Amount'] = df['Amount'].str.replace('$', '')\n",
    "df['Amount'] = df['Amount'].str.replace(',', '')\n",
    "print(round(float(df.iloc[2]['Amount']) + 1.10))\n",
    "df['Amount'] = round(df['Amount'].astype(float))\n",
    "print(df.iloc[2]['Amount'] + 1.10)"
   ]
  },
  {
   "cell_type": "code",
   "execution_count": 75,
   "id": "7f40bb12",
   "metadata": {},
   "outputs": [
    {
     "name": "stdout",
     "output_type": "stream",
     "text": [
      "['Female' 'Male' 'Genderqueer' 'Bigender' 'Polygender' 'Non-binary'\n",
      " 'Agender' 'Genderfluid']\n"
     ]
    }
   ],
   "source": [
    "product_key = df.Product.unique()\n",
    "cat_key = df['Product Category'].unique()\n",
    "gender_key = df.gender.unique()\n",
    "print(gender_key)"
   ]
  },
  {
   "cell_type": "code",
   "execution_count": 76,
   "id": "6f2fa43a",
   "metadata": {},
   "outputs": [
    {
     "name": "stdout",
     "output_type": "stream",
     "text": [
      "Order ID                             1\n",
      "first_name                    Morganne\n",
      "last_name                       Gerler\n",
      "email               mgerler0@wufoo.com\n",
      "gender                          Female\n",
      "Product                   Nike Air Max\n",
      "Product Category               Mobiles\n",
      "Amount                            1415\n",
      "Name: 0, dtype: object\n",
      "mgerler0@wufoo.com\n"
     ]
    }
   ],
   "source": [
    "print(df.iloc[0])\n",
    "print(df.iloc[0]['email'])"
   ]
  },
  {
   "cell_type": "code",
   "execution_count": 77,
   "id": "b64ca1e9",
   "metadata": {},
   "outputs": [
    {
     "data": {
      "text/plain": [
       "{'Female': 0.0,\n",
       " 'Male': 0.0,\n",
       " 'Genderqueer': 0.0,\n",
       " 'Bigender': 0.0,\n",
       " 'Polygender': 0.0,\n",
       " 'Non-binary': 0.0,\n",
       " 'Agender': 0.0,\n",
       " 'Genderfluid': 0.0}"
      ]
     },
     "execution_count": 77,
     "metadata": {},
     "output_type": "execute_result"
    }
   ],
   "source": [
    "prod_length = len(df.Product.unique())\n",
    "cat_length = len(cat_key)\n",
    "gen_length = len(gender_key)\n",
    "\n",
    "num_array_cat = np.zeros(cat_length, dtype = np.int8)\n",
    "num_array_prod = np.zeros(prod_length, dtype = np.int8)\n",
    "num_array_gen = np.zeros(gen_length, dtype = float)\n",
    "\n",
    "product_dict = dict(zip(product_key, num_array_prod))\n",
    "cat_dict = dict(zip(cat_key, num_array_cat))\n",
    "gen_dict = dict(zip(gender_key, num_array_gen))\n",
    "\n",
    "prob = df.iloc[0]['Product']\n",
    "gen_dict"
   ]
  },
  {
   "cell_type": "code",
   "execution_count": 78,
   "id": "34089943",
   "metadata": {},
   "outputs": [
    {
     "data": {
      "text/plain": [
       "{'Female': 154342.0,\n",
       " 'Male': 147794.0,\n",
       " 'Genderqueer': 8891.0,\n",
       " 'Bigender': 6432.0,\n",
       " 'Polygender': 7861.0,\n",
       " 'Non-binary': 7399.0,\n",
       " 'Agender': 6566.0,\n",
       " 'Genderfluid': 4124.0}"
      ]
     },
     "execution_count": 78,
     "metadata": {},
     "output_type": "execute_result"
    }
   ],
   "source": [
    "for x in range(df.shape[0]):\n",
    "    product_dict[df.iloc[x]['Product']] += 1\n",
    "    cat_dict[df.iloc[x]['Product Category']] += 1\n",
    "    gen_dict[df.iloc[x]['gender']] += df.iloc[x]['Amount']\n",
    "    \n",
    "gen_dict"
   ]
  },
  {
   "cell_type": "code",
   "execution_count": null,
   "id": "6e889663",
   "metadata": {},
   "outputs": [],
   "source": []
  },
  {
   "cell_type": "code",
   "execution_count": 79,
   "id": "9ef34fdd",
   "metadata": {},
   "outputs": [
    {
     "data": {
      "text/plain": [
       "<BarContainer object of 10 artists>"
      ]
     },
     "execution_count": 79,
     "metadata": {},
     "output_type": "execute_result"
    },
    {
     "data": {
      "image/png": "[encoded data removed]",
      "text/plain": [
       "<Figure size 1152x1152 with 1 Axes>"
      ]
     },
     "metadata": {
      "needs_background": "light"
     },
     "output_type": "display_data"
    }
   ],
   "source": [
    "plt.figure(figsize = (16, 16))\n",
    "plt.bar(product_dict.keys(), product_dict.values())"
   ]
  },
  {
   "cell_type": "code",
   "execution_count": 80,
   "id": "30252658",
   "metadata": {},
   "outputs": [
    {
     "data": {
      "text/plain": [
       "<BarContainer object of 6 artists>"
      ]
     },
     "execution_count": 80,
     "metadata": {},
     "output_type": "execute_result"
    },
    {
     "data": {
      "image/png": "[encoded data removed]",
      "text/plain": [
       "<Figure size 936x936 with 1 Axes>"
      ]
     },
     "metadata": {
      "needs_background": "light"
     },
     "output_type": "display_data"
    }
   ],
   "source": [
    "plt.figure(figsize = (13, 13))\n",
    "plt.bar(cat_dict.keys(), cat_dict.values())"
   ]
  },
  {
   "cell_type": "code",
   "execution_count": 81,
   "id": "966d507e",
   "metadata": {},
   "outputs": [
    {
     "data": {
      "text/plain": [
       "<BarContainer object of 8 artists>"
      ]
     },
     "execution_count": 81,
     "metadata": {},
     "output_type": "execute_result"
    },
    {
     "data": {
      "image/png": "[encoded data removed]",
      "text/plain": [
       "<Figure size 936x936 with 1 Axes>"
      ]
     },
     "metadata": {
      "needs_background": "light"
     },
     "output_type": "display_data"
    }
   ],
   "source": [
    "plt.figure(figsize = (13, 13))\n",
    "plt.bar(gen_dict.keys(), gen_dict.values())"
   ]
  },
  {
   "cell_type": "code",
   "execution_count": 90,
   "id": "bd95f7eb",
   "metadata": {},
   "outputs": [
    {
     "name": "stdout",
     "output_type": "stream",
     "text": [
      "                   Amount\n",
      "Product                  \n",
      "Amazon Echo       38720.0\n",
      "Canon EOS          9519.0\n",
      "Fitbit Charge     58221.0\n",
      "GoPro Hero        16606.0\n",
      "MacBook Pro       35263.0\n",
      "Nike Air Max      67039.0\n",
      "Nintendo Switch    8058.0\n",
      "Samsung Galaxy    17493.0\n",
      "Sony PlayStation  79744.0\n",
      "iPhone            12746.0\n",
      "               Amount\n",
      "gender               \n",
      "Agender        6566.0\n",
      "Bigender       6432.0\n",
      "Female       154342.0\n",
      "Genderfluid    4124.0\n",
      "Genderqueer    8891.0\n",
      "Male         147794.0\n",
      "Non-binary     7399.0\n",
      "Polygender     7861.0\n",
      "                    Amount\n",
      "Product Category          \n",
      "Fashion            55872.0\n",
      "Gaming             60962.0\n",
      "Health             66052.0\n",
      "Laptop             57351.0\n",
      "Mobiles            44003.0\n",
      "mobile accesories  59169.0\n",
      "                                     Amount\n",
      "Product          Product Category          \n",
      "Amazon Echo      Fashion             1504.0\n",
      "                 Gaming              7803.0\n",
      "                 Health              9852.0\n",
      "                 Laptop              4039.0\n",
      "                 Mobiles             8284.0\n",
      "                 mobile accesories   7238.0\n",
      "Canon EOS        Fashion              640.0\n",
      "                 Gaming              1385.0\n",
      "                 Health              2769.0\n",
      "                 Laptop               165.0\n",
      "                 Mobiles             2576.0\n",
      "                 mobile accesories   1984.0\n",
      "Fitbit Charge    Fashion             9671.0\n",
      "                 Gaming             11816.0\n",
      "                 Health              5773.0\n",
      "                 Laptop              9474.0\n",
      "                 Mobiles             7337.0\n",
      "                 mobile accesories  14150.0\n",
      "GoPro Hero       Fashion             4032.0\n",
      "                 Gaming               557.0\n",
      "                 Health              1931.0\n",
      "                 Laptop              3117.0\n",
      "                 Mobiles             1990.0\n",
      "                 mobile accesories   4979.0\n",
      "MacBook Pro      Fashion             6166.0\n",
      "                 Gaming              6585.0\n",
      "                 Health              9481.0\n",
      "                 Laptop              7960.0\n",
      "                 Mobiles             2047.0\n",
      "                 mobile accesories   3024.0\n",
      "Nike Air Max     Fashion            14436.0\n",
      "                 Gaming              9782.0\n",
      "                 Health             15459.0\n",
      "                 Laptop              7098.0\n",
      "                 Mobiles             9324.0\n",
      "                 mobile accesories  10940.0\n",
      "Nintendo Switch  Fashion             3110.0\n",
      "                 Gaming              1731.0\n",
      "                 Health               182.0\n",
      "                 Laptop              1250.0\n",
      "                 mobile accesories   1785.0\n",
      "Samsung Galaxy   Fashion             5217.0\n",
      "                 Gaming              2469.0\n",
      "                 Health              4917.0\n",
      "                 Laptop              1415.0\n",
      "                 Mobiles             1431.0\n",
      "                 mobile accesories   2044.0\n",
      "Sony PlayStation Fashion             9538.0\n",
      "                 Gaming             16573.0\n",
      "                 Health             14057.0\n",
      "                 Laptop             19482.0\n",
      "                 Mobiles             9525.0\n",
      "                 mobile accesories  10569.0\n",
      "iPhone           Fashion             1558.0\n",
      "                 Gaming              2261.0\n",
      "                 Health              1631.0\n",
      "                 Laptop              3351.0\n",
      "                 Mobiles             1489.0\n",
      "                 mobile accesories   2456.0\n"
     ]
    }
   ],
   "source": [
    "pivot_prod_amount = df.pivot_table(index = ['Product'], values = ['Amount'], aggfunc = 'sum')\n",
    "print(pivot_prod_amount)\n",
    "pivot_gen_amount = df.pivot_table(index = ['gender'], values =['Amount'], aggfunc = 'sum')\n",
    "print(pivot_gen_amount)\n",
    "pivot_cat_amount = df.pivot_table(index = ['Product Category'], values = ['Amount'], aggfunc = 'sum')\n",
    "print(pivot_cat_amount)\n",
    "\n",
    "pivot_combo = df.pivot_table(index = ['Product', 'Product Category'], values = ['Amount'], aggfunc = 'sum')\n",
    "print(pivot_combo)"
   ]
  },
  {
   "cell_type": "code",
   "execution_count": null,
   "id": "0fcbb7cd",
   "metadata": {},
   "outputs": [],
   "source": []
  },
  {
   "cell_type": "code",
   "execution_count": null,
   "id": "27422faa",
   "metadata": {},
   "outputs": [],
   "source": []
  }
 ],
 "metadata": {
  "kernelspec": {
   "display_name": "Python 3",
   "language": "python",
   "name": "python3"
  },
  "language_info": {
   "codemirror_mode": {
    "name": "ipython",
    "version": 3
   },
   "file_extension": ".py",
   "mimetype": "text/x-python",
   "name": "python",
   "nbconvert_exporter": "python",
   "pygments_lexer": "ipython3",
   "version": "3.6.2"
  }
 },
 "nbformat": 4,
 "nbformat_minor": 5
}
